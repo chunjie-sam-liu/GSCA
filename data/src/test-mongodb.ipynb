{
 "cells": [
  {
   "cell_type": "code",
   "execution_count": 4,
   "metadata": {},
   "outputs": [],
   "source": [
    "from pymongo import MongoClient"
   ]
  },
  {
   "cell_type": "code",
   "execution_count": 5,
   "metadata": {},
   "outputs": [],
   "source": [
    "with open('/home/liucj/github/GSCA/data/src/gsca.conf', 'r') as fh:\n",
    "    gsca = fh.readline()\n",
    "\n",
    "mongo = MongoClient(gsca)"
   ]
  },
  {
   "cell_type": "code",
   "execution_count": 7,
   "metadata": {},
   "outputs": [],
   "source": [
    "args = {\"validSymbol\":[\"A2M\",\"ACE\",\"ANGPT2\",\"BPI\",\"CD1B\",\"CDR1\",\"EGR2\",\"EGR3\",\"HBEGF\",\"HERPUD1\",\"MCM2\",\"PCTP\",\"PODXL\",\"PPY\",\"PTGS2\",\"RCAN1\",\"SLC4A7\",\"THBD\"],\"cancerTypeSelected\":[\"KICH\",\"KIRC\",\"KIRP\",\"LUAD\",\"LUSC\"],\"validColl\":[\"KICH_deg\",\"KIRC_deg\",\"KIRP_deg\",\"LUAD_deg\",\"LUSC_deg\"]}"
   ]
  },
  {
   "cell_type": "code",
   "execution_count": 24,
   "metadata": {},
   "outputs": [],
   "source": [
    "search = args[\"validSymbol\"]\n",
    "coll = args[\"validColl\"]"
   ]
  },
  {
   "cell_type": "code",
   "execution_count": 25,
   "metadata": {},
   "outputs": [],
   "source": [
    "import uuid"
   ]
  },
  {
   "cell_type": "code",
   "execution_count": 26,
   "metadata": {},
   "outputs": [],
   "source": [
    "uuidname = str(uuid.uuid4())"
   ]
  },
  {
   "cell_type": "code",
   "execution_count": 36,
   "metadata": {},
   "outputs": [
    {
     "output_type": "stream",
     "name": "stdout",
     "text": [
      "ad760f1f-1b09-474e-a4ad-015d61afb02e\n"
     ]
    }
   ],
   "source": [
    "preanalysised = mongo.gsca.preanalysised.find_one({'search': '#'.join(search), 'coll': '#'.join(coll), 'purpose': 'degplot'}, {'_id':0, 'uuid': 1})\n",
    "if preanalysised:\n",
    "    print(preanalysised['uuid'])\n",
    "else:\n",
    "    mongo.gsca.preanalysised.insert_one({\n",
    "        'search': '#'.join(search),\n",
    "        'coll': '#'.join(coll),\n",
    "        'purpose': 'degplot',\n",
    "        'uuid': uuidname\n",
    "    })\n"
   ]
  },
  {
   "cell_type": "code",
   "execution_count": 37,
   "metadata": {},
   "outputs": [
    {
     "output_type": "execute_result",
     "data": {
      "text/plain": [
       "'a'"
      ]
     },
     "metadata": {},
     "execution_count": 37
    }
   ],
   "source": [
    "'#'.join(['a'])"
   ]
  },
  {
   "cell_type": "code",
   "execution_count": null,
   "metadata": {},
   "outputs": [],
   "source": []
  }
 ],
 "metadata": {
  "kernelspec": {
   "display_name": "Python 3",
   "language": "python",
   "name": "python3"
  },
  "language_info": {
   "codemirror_mode": {
    "name": "ipython",
    "version": 3
   },
   "file_extension": ".py",
   "mimetype": "text/x-python",
   "name": "python",
   "nbconvert_exporter": "python",
   "pygments_lexer": "ipython3",
   "version": "3.7.6-final"
  }
 },
 "nbformat": 4,
 "nbformat_minor": 4
}